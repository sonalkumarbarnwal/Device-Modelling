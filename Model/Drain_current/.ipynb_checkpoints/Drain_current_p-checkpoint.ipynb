{
 "cells": [
  {
   "cell_type": "code",
   "execution_count": 1,
   "metadata": {},
   "outputs": [],
   "source": [
    "import tensorflow as tf\n",
    "from tensorflow import keras\n",
    "from sklearn.preprocessing import StandardScaler\n",
    "from sklearn.model_selection import train_test_split\n",
    "from tensorflow.keras import Sequential\n",
    "from tensorflow.keras.layers import Dense\n",
    "import matplotlib.pyplot as plt\n",
    "import pandas as pd\n",
    "import numpy as np"
   ]
  },
  {
   "cell_type": "code",
   "execution_count": 2,
   "metadata": {},
   "outputs": [],
   "source": [
    "df = pd.read_csv('output.csv')\n",
    "#dataframe = pandas.read_csv(\"sonar.csv\", header=None)\n",
    "dataset = df.values\n",
    "# split into input (X) and output (Y) variables\n",
    "X = dataset[:,0:3].astype(float)\n",
    "Id = dataset[:,5].reshape(-1, 1)"
   ]
  },
  {
   "cell_type": "code",
   "execution_count": 3,
   "metadata": {},
   "outputs": [],
   "source": [
    "X_p = X[3033:,:]\n",
    "Id_p = Id[3033:,:]\n"
   ]
  },
  {
   "cell_type": "code",
   "execution_count": 4,
   "metadata": {},
   "outputs": [],
   "source": [
    "output_p = np.log10(Id_p)"
   ]
  },
  {
   "cell_type": "code",
   "execution_count": 5,
   "metadata": {},
   "outputs": [],
   "source": [
    "X_ptrain, X_ptest, y_ptrain, y_ptest = train_test_split(X_p, output_p, test_size=0.1)\n",
    "n_features = X_ptrain.shape[1]"
   ]
  },
  {
   "cell_type": "code",
   "execution_count": 6,
   "metadata": {},
   "outputs": [],
   "source": [
    "model = Sequential()\n",
    "model.add(Dense(5, activation='tanh',  kernel_initializer='he_normal', input_shape=(n_features,)))\n",
    "model.add(Dense(10, activation='tanh', kernel_initializer='he_normal'))\n",
    "model.add(Dense(15, activation='tanh', kernel_initializer='he_normal'))\n",
    "model.add(Dense(20, activation='tanh', kernel_initializer='he_normal'))\n",
    "model.add(Dense(25, activation='tanh', kernel_initializer='he_normal'))\n",
    "model.add(Dense(25, activation='tanh', kernel_initializer='he_normal'))\n",
    "model.add(Dense(25, activation='tanh', kernel_initializer='he_normal'))\n",
    "model.add(Dense(1))"
   ]
  },
  {
   "cell_type": "code",
   "execution_count": 7,
   "metadata": {},
   "outputs": [],
   "source": [
    "model.compile(optimizer='adam', loss='mse')"
   ]
  },
  {
   "cell_type": "code",
   "execution_count": 8,
   "metadata": {},
   "outputs": [
    {
     "name": "stdout",
     "output_type": "stream",
     "text": [
      "Epoch 1/10\n",
      "716/716 [==============================] - 1s 1ms/step - loss: 6.2860\n",
      "Epoch 2/10\n",
      "716/716 [==============================] - 1s 1ms/step - loss: 0.3772\n",
      "Epoch 3/10\n",
      "716/716 [==============================] - 1s 1ms/step - loss: 0.3326A: 0s - loss: 0.338 - ETA: 0s - loss: 0 - ETA: 0s - loss: 0.333\n",
      "Epoch 4/10\n",
      "716/716 [==============================] - 1s 1ms/step - loss: 0.3161\n",
      "Epoch 5/10\n",
      "716/716 [==============================] - 1s 944us/step - loss: 0.3001\n",
      "Epoch 6/10\n",
      "716/716 [==============================] - 1s 1ms/step - loss: 0.2866\n",
      "Epoch 7/10\n",
      "716/716 [==============================] - 1s 1ms/step - loss: 0.2670\n",
      "Epoch 8/10\n",
      "716/716 [==============================] - 1s 958us/step - loss: 0.2580\n",
      "Epoch 9/10\n",
      "716/716 [==============================] - 1s 1ms/step - loss: 0.2530\n",
      "Epoch 10/10\n",
      "716/716 [==============================] - 1s 1ms/step - loss: 0.2240A: 0s - los\n"
     ]
    },
    {
     "data": {
      "text/plain": [
       "<tensorflow.python.keras.callbacks.History at 0x199c241eb50>"
      ]
     },
     "execution_count": 8,
     "metadata": {},
     "output_type": "execute_result"
    }
   ],
   "source": [
    "model.fit(X_ptrain, y_ptrain, epochs=10, batch_size=32, verbose=1)"
   ]
  },
  {
   "cell_type": "code",
   "execution_count": 16,
   "metadata": {},
   "outputs": [
    {
     "name": "stdout",
     "output_type": "stream",
     "text": [
      "80/80 [==============================] - 0s 601us/step - loss: 0.0054\n",
      "MSE: 0.005, RMSE: 0.073\n"
     ]
    }
   ],
   "source": [
    "error = model.evaluate(X_ptest, y_ptest, verbose=1)\n",
    "print('MSE: %.3f, RMSE: %.3f' % (error, np.sqrt(error)))"
   ]
  },
  {
   "cell_type": "code",
   "execution_count": 17,
   "metadata": {},
   "outputs": [],
   "source": [
    "model.save(\"drain_current_p.h5\")"
   ]
  },
  {
   "cell_type": "code",
   "execution_count": 9,
   "metadata": {},
   "outputs": [],
   "source": [
    "from keras.models import load_model\n",
    "drain_current_p = load_model('drain_current_n.h5')"
   ]
  },
  {
   "cell_type": "code",
   "execution_count": 20,
   "metadata": {},
   "outputs": [],
   "source": [
    "Y_predict = drain_current_p.predict(X_ntest)"
   ]
  },
  {
   "cell_type": "code",
   "execution_count": 21,
   "metadata": {},
   "outputs": [
    {
     "data": {
      "text/plain": [
       "[<matplotlib.lines.Line2D at 0x1f316224130>]"
      ]
     },
     "execution_count": 21,
     "metadata": {},
     "output_type": "execute_result"
    },
    {
     "data": {
      "image/png": "[encoded data removed]",
      "text/plain": [
       "<Figure size 432x288 with 1 Axes>"
      ]
     },
     "metadata": {
      "needs_background": "light"
     },
     "output_type": "display_data"
    }
   ],
   "source": [
    "plt.plot(y_ntest[:10])\n",
    "plt.plot(Y_predict[:10])"
   ]
  },
  {
   "cell_type": "code",
   "execution_count": 10,
   "metadata": {},
   "outputs": [],
   "source": [
    "from keras.models import load_model\n",
    "drain_current_n = load_model('drain_current_n.h5')"
   ]
  },
  {
   "cell_type": "code",
   "execution_count": 11,
   "metadata": {},
   "outputs": [],
   "source": [
    "drain_current_classification = load_model('drain_current_classification.h5')"
   ]
  },
  {
   "cell_type": "code",
   "execution_count": null,
   "metadata": {},
   "outputs": [],
   "source": []
  }
 ],
 "metadata": {
  "kernelspec": {
   "display_name": "Python 3",
   "language": "python",
   "name": "python3"
  },
  "language_info": {
   "codemirror_mode": {
    "name": "ipython",
    "version": 3
   },
   "file_extension": ".py",
   "mimetype": "text/x-python",
   "name": "python",
   "nbconvert_exporter": "python",
   "pygments_lexer": "ipython3",
   "version": "3.8.5"
  }
 },
 "nbformat": 4,
 "nbformat_minor": 4
}
